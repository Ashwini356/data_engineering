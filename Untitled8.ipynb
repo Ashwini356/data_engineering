{
  "nbformat": 4,
  "nbformat_minor": 0,
  "metadata": {
    "colab": {
      "provenance": [],
      "authorship_tag": "ABX9TyMpOhR7Xr95r0VYFSrU45tx",
      "include_colab_link": true
    },
    "kernelspec": {
      "name": "python3",
      "display_name": "Python 3"
    },
    "language_info": {
      "name": "python"
    }
  },
  "cells": [
    {
      "cell_type": "markdown",
      "metadata": {
        "id": "view-in-github",
        "colab_type": "text"
      },
      "source": [
        "<a href=\"https://colab.research.google.com/github/Ashwini356/data_engineering/blob/main/Untitled8.ipynb\" target=\"_parent\"><img src=\"https://colab.research.google.com/assets/colab-badge.svg\" alt=\"Open In Colab\"/></a>"
      ]
    },
    {
      "cell_type": "code",
      "execution_count": 1,
      "metadata": {
        "colab": {
          "base_uri": "https://localhost:8080/"
        },
        "id": "7bjn71OH77Ak",
        "outputId": "af726531-2c69-4bf7-95e0-38583413cc3d"
      },
      "outputs": [
        {
          "output_type": "stream",
          "name": "stdout",
          "text": [
            "Looking in indexes: https://pypi.org/simple, https://us-python.pkg.dev/colab-wheels/public/simple/\n",
            "Collecting pyspark\n",
            "  Downloading pyspark-3.3.1.tar.gz (281.4 MB)\n",
            "\u001b[K     |████████████████████████████████| 281.4 MB 38 kB/s \n",
            "\u001b[?25hCollecting py4j==0.10.9.5\n",
            "  Downloading py4j-0.10.9.5-py2.py3-none-any.whl (199 kB)\n",
            "\u001b[K     |████████████████████████████████| 199 kB 61.1 MB/s \n",
            "\u001b[?25hBuilding wheels for collected packages: pyspark\n",
            "  Building wheel for pyspark (setup.py) ... \u001b[?25l\u001b[?25hdone\n",
            "  Created wheel for pyspark: filename=pyspark-3.3.1-py2.py3-none-any.whl size=281845512 sha256=a86cbaacaddc9b7b83e49be42fc5ac1069ffbb9c395080d777e2bd63628be648\n",
            "  Stored in directory: /root/.cache/pip/wheels/43/dc/11/ec201cd671da62fa9c5cc77078235e40722170ceba231d7598\n",
            "Successfully built pyspark\n",
            "Installing collected packages: py4j, pyspark\n",
            "Successfully installed py4j-0.10.9.5 pyspark-3.3.1\n"
          ]
        }
      ],
      "source": [
        "pip install pyspark"
      ]
    },
    {
      "cell_type": "code",
      "source": [
        "from pyspark.sql import SparkSession"
      ],
      "metadata": {
        "id": "zux-NLpV8Y9G"
      },
      "execution_count": 2,
      "outputs": []
    },
    {
      "cell_type": "code",
      "source": [
        "spark=SparkSession.builder.appName('pyspark').getOrCreate()"
      ],
      "metadata": {
        "id": "hJzkvaua8kqx"
      },
      "execution_count": 3,
      "outputs": []
    },
    {
      "cell_type": "code",
      "source": [
        "from pyspark.sql .window import Window"
      ],
      "metadata": {
        "id": "TkI5W0ot_EUM"
      },
      "execution_count": 4,
      "outputs": []
    },
    {
      "cell_type": "code",
      "source": [
        "sampleData = ((\"Ram\", 28, \"Sales\", 3000),\n",
        "              (\"Meena\", 33, \"Sales\", 4600),\n",
        "              (\"Robin\", 40, \"Sales\", 4100),\n",
        "              (\"Kunal\", 25, \"Finance\", 3000),\n",
        "              (\"Ram\", 28, \"Sales\", 3000),\n",
        "              (\"Srishti\", 46, \"Management\", 3300),\n",
        "              (\"Jeny\", 26, \"Finance\", 3900),\n",
        "              (\"Hitesh\", 30, \"Marketing\", 3000),\n",
        "              (\"Kailash\", 29, \"Marketing\", 2000),\n",
        "              (\"Sharad\", 39, \"Sales\", 4100)\n",
        "              )"
      ],
      "metadata": {
        "id": "Jz4Ttumt_kfq"
      },
      "execution_count": 5,
      "outputs": []
    },
    {
      "cell_type": "code",
      "source": [
        "columns = [\"Employee_Name\", \"Age\",\n",
        "           \"Department\", \"Salary\"]\n",
        " "
      ],
      "metadata": {
        "id": "SKxEW-22_qOf"
      },
      "execution_count": 6,
      "outputs": []
    },
    {
      "cell_type": "code",
      "source": [
        "dataframe=spark.createDataFrame(data=sampleData,schema=columns)"
      ],
      "metadata": {
        "id": "NpAtnDkC_230"
      },
      "execution_count": 7,
      "outputs": []
    },
    {
      "cell_type": "code",
      "source": [
        "dataframe.show()"
      ],
      "metadata": {
        "id": "n0arEdPjAKqQ",
        "outputId": "181cb247-e28c-4315-82be-918b969c7a45",
        "colab": {
          "base_uri": "https://localhost:8080/"
        }
      },
      "execution_count": 8,
      "outputs": [
        {
          "output_type": "stream",
          "name": "stdout",
          "text": [
            "+-------------+---+----------+------+\n",
            "|Employee_Name|Age|Department|Salary|\n",
            "+-------------+---+----------+------+\n",
            "|          Ram| 28|     Sales|  3000|\n",
            "|        Meena| 33|     Sales|  4600|\n",
            "|        Robin| 40|     Sales|  4100|\n",
            "|        Kunal| 25|   Finance|  3000|\n",
            "|          Ram| 28|     Sales|  3000|\n",
            "|      Srishti| 46|Management|  3300|\n",
            "|         Jeny| 26|   Finance|  3900|\n",
            "|       Hitesh| 30| Marketing|  3000|\n",
            "|      Kailash| 29| Marketing|  2000|\n",
            "|       Sharad| 39|     Sales|  4100|\n",
            "+-------------+---+----------+------+\n",
            "\n"
          ]
        }
      ]
    },
    {
      "cell_type": "code",
      "source": [
        "windowPartition = Window.partitionBy(\"Department\").orderBy(\"Age\")\n",
        " "
      ],
      "metadata": {
        "id": "NndPTj8nA6wE"
      },
      "execution_count": 9,
      "outputs": []
    },
    {
      "cell_type": "code",
      "source": [
        "dataframe.printSchema()"
      ],
      "metadata": {
        "id": "ZLB7CWFXA_tb",
        "outputId": "2f22e719-e4ec-4928-8078-60960123be5f",
        "colab": {
          "base_uri": "https://localhost:8080/"
        }
      },
      "execution_count": 11,
      "outputs": [
        {
          "output_type": "stream",
          "name": "stdout",
          "text": [
            "root\n",
            " |-- Employee_Name: string (nullable = true)\n",
            " |-- Age: long (nullable = true)\n",
            " |-- Department: string (nullable = true)\n",
            " |-- Salary: long (nullable = true)\n",
            "\n"
          ]
        }
      ]
    },
    {
      "cell_type": "code",
      "source": [
        "dataframe.show()"
      ],
      "metadata": {
        "id": "v2m46e-rBI5-",
        "outputId": "f1050531-50c6-47a6-b3a0-510db20fba2f",
        "colab": {
          "base_uri": "https://localhost:8080/"
        }
      },
      "execution_count": 12,
      "outputs": [
        {
          "output_type": "stream",
          "name": "stdout",
          "text": [
            "+-------------+---+----------+------+\n",
            "|Employee_Name|Age|Department|Salary|\n",
            "+-------------+---+----------+------+\n",
            "|          Ram| 28|     Sales|  3000|\n",
            "|        Meena| 33|     Sales|  4600|\n",
            "|        Robin| 40|     Sales|  4100|\n",
            "|        Kunal| 25|   Finance|  3000|\n",
            "|          Ram| 28|     Sales|  3000|\n",
            "|      Srishti| 46|Management|  3300|\n",
            "|         Jeny| 26|   Finance|  3900|\n",
            "|       Hitesh| 30| Marketing|  3000|\n",
            "|      Kailash| 29| Marketing|  2000|\n",
            "|       Sharad| 39|     Sales|  4100|\n",
            "+-------------+---+----------+------+\n",
            "\n"
          ]
        }
      ]
    },
    {
      "cell_type": "code",
      "source": [
        "sampleData = ((101, \"Ram\", \"Biology\", 80),\n",
        "              (103, \"Meena\", \"Social Science\", 78),\n",
        "              (104, \"Robin\", \"Sanskrit\", 58),\n",
        "              (102, \"Kunal\", \"Phisycs\", 89),\n",
        "              (101, \"Ram\", \"Biology\", 80),\n",
        "              (106, \"Srishti\", \"Maths\", 70),\n",
        "              (108, \"Jeny\", \"Physics\", 75),\n",
        "              (107, \"Hitesh\", \"Maths\", 88),\n",
        "              (109, \"Kailash\", \"Maths\", 90),\n",
        "              (105, \"Sharad\", \"Social Science\", 84)\n",
        "              )\n",
        " "
      ],
      "metadata": {
        "id": "p2M96MBiCkZT"
      },
      "execution_count": 13,
      "outputs": []
    },
    {
      "cell_type": "code",
      "source": [
        "columns = [\"Roll_No\", \"Student_Name\", \"Subject\", \"Marks\"]\n",
        " "
      ],
      "metadata": {
        "id": "I0bRpUxHCq5X"
      },
      "execution_count": 14,
      "outputs": []
    },
    {
      "cell_type": "code",
      "source": [
        "df2 = spark.createDataFrame(data=sampleData,schema=columns)\n",
        " "
      ],
      "metadata": {
        "id": "kj_PJiXyCwL1"
      },
      "execution_count": 15,
      "outputs": []
    },
    {
      "cell_type": "code",
      "source": [
        "windowPartition = Window.partitionBy(\"Subject\").orderBy(\"Marks\")\n",
        " "
      ],
      "metadata": {
        "id": "TLlmP8utC7gL"
      },
      "execution_count": 16,
      "outputs": []
    },
    {
      "cell_type": "code",
      "source": [
        "df2.printSchema()\n",
        " "
      ],
      "metadata": {
        "id": "sdyN2SppDAYx",
        "outputId": "9944e16d-3b55-478d-b870-87ba8174cf15",
        "colab": {
          "base_uri": "https://localhost:8080/"
        }
      },
      "execution_count": 17,
      "outputs": [
        {
          "output_type": "stream",
          "name": "stdout",
          "text": [
            "root\n",
            " |-- Roll_No: long (nullable = true)\n",
            " |-- Student_Name: string (nullable = true)\n",
            " |-- Subject: string (nullable = true)\n",
            " |-- Marks: long (nullable = true)\n",
            "\n"
          ]
        }
      ]
    },
    {
      "cell_type": "code",
      "source": [
        "df2.show()"
      ],
      "metadata": {
        "id": "6oDiIXOUDFX3",
        "outputId": "3aa42d54-fae4-4403-8644-6d8ddd9a1eb6",
        "colab": {
          "base_uri": "https://localhost:8080/"
        }
      },
      "execution_count": 18,
      "outputs": [
        {
          "output_type": "stream",
          "name": "stdout",
          "text": [
            "+-------+------------+--------------+-----+\n",
            "|Roll_No|Student_Name|       Subject|Marks|\n",
            "+-------+------------+--------------+-----+\n",
            "|    101|         Ram|       Biology|   80|\n",
            "|    103|       Meena|Social Science|   78|\n",
            "|    104|       Robin|      Sanskrit|   58|\n",
            "|    102|       Kunal|       Phisycs|   89|\n",
            "|    101|         Ram|       Biology|   80|\n",
            "|    106|     Srishti|         Maths|   70|\n",
            "|    108|        Jeny|       Physics|   75|\n",
            "|    107|      Hitesh|         Maths|   88|\n",
            "|    109|     Kailash|         Maths|   90|\n",
            "|    105|      Sharad|Social Science|   84|\n",
            "+-------+------------+--------------+-----+\n",
            "\n"
          ]
        }
      ]
    },
    {
      "cell_type": "code",
      "source": [
        "from pyspark.sql.functions import row_number"
      ],
      "metadata": {
        "id": "wgC4OqK6DQZu"
      },
      "execution_count": 19,
      "outputs": []
    },
    {
      "cell_type": "code",
      "source": [
        "df2=withColumn(\"row_number\",row_number().over (windowPartition)).show()"
      ],
      "metadata": {
        "id": "XzznDXmVDfZp",
        "outputId": "66ed8ddd-4044-4ea2-87ee-ee9b20d22fe5",
        "colab": {
          "base_uri": "https://localhost:8080/",
          "height": 165
        }
      },
      "execution_count": 21,
      "outputs": [
        {
          "output_type": "error",
          "ename": "NameError",
          "evalue": "ignored",
          "traceback": [
            "\u001b[0;31m---------------------------------------------------------------------------\u001b[0m",
            "\u001b[0;31mNameError\u001b[0m                                 Traceback (most recent call last)",
            "\u001b[0;32m<ipython-input-21-f1103240e986>\u001b[0m in \u001b[0;36m<module>\u001b[0;34m\u001b[0m\n\u001b[0;32m----> 1\u001b[0;31m \u001b[0mdf2\u001b[0m\u001b[0;34m=\u001b[0m\u001b[0mWithColumn\u001b[0m\u001b[0;34m(\u001b[0m\u001b[0;34m\"row_number\"\u001b[0m\u001b[0;34m,\u001b[0m\u001b[0mrow_number\u001b[0m\u001b[0;34m(\u001b[0m\u001b[0;34m)\u001b[0m\u001b[0;34m.\u001b[0m\u001b[0mover\u001b[0m \u001b[0;34m(\u001b[0m\u001b[0mwindowPartition\u001b[0m\u001b[0;34m)\u001b[0m\u001b[0;34m)\u001b[0m\u001b[0;34m.\u001b[0m\u001b[0mshow\u001b[0m\u001b[0;34m(\u001b[0m\u001b[0;34m)\u001b[0m\u001b[0;34m\u001b[0m\u001b[0;34m\u001b[0m\u001b[0m\n\u001b[0m",
            "\u001b[0;31mNameError\u001b[0m: name 'WithColumn' is not defined"
          ]
        }
      ]
    },
    {
      "cell_type": "code",
      "source": [
        "df2.withColumn(\"row_number\",row_number().over(windowPartition)).show()"
      ],
      "metadata": {
        "id": "Hk8luEh8EeoG",
        "outputId": "61490fce-594d-4343-ae77-80e6a4b8b299",
        "colab": {
          "base_uri": "https://localhost:8080/"
        }
      },
      "execution_count": 22,
      "outputs": [
        {
          "output_type": "stream",
          "name": "stdout",
          "text": [
            "+-------+------------+--------------+-----+----------+\n",
            "|Roll_No|Student_Name|       Subject|Marks|row_number|\n",
            "+-------+------------+--------------+-----+----------+\n",
            "|    101|         Ram|       Biology|   80|         1|\n",
            "|    101|         Ram|       Biology|   80|         2|\n",
            "|    106|     Srishti|         Maths|   70|         1|\n",
            "|    107|      Hitesh|         Maths|   88|         2|\n",
            "|    109|     Kailash|         Maths|   90|         3|\n",
            "|    102|       Kunal|       Phisycs|   89|         1|\n",
            "|    108|        Jeny|       Physics|   75|         1|\n",
            "|    104|       Robin|      Sanskrit|   58|         1|\n",
            "|    103|       Meena|Social Science|   78|         1|\n",
            "|    105|      Sharad|Social Science|   84|         2|\n",
            "+-------+------------+--------------+-----+----------+\n",
            "\n"
          ]
        }
      ]
    },
    {
      "cell_type": "code",
      "source": [],
      "metadata": {
        "id": "QMbBD24JD_p1"
      },
      "execution_count": null,
      "outputs": []
    }
  ]
}