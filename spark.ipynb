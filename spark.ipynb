{
  "nbformat": 4,
  "nbformat_minor": 0,
  "metadata": {
    "colab": {
      "provenance": [],
      "authorship_tag": "ABX9TyPQ7LA0HZ7s+Op1OEsEv0XE",
      "include_colab_link": true
    },
    "kernelspec": {
      "name": "python3",
      "display_name": "Python 3"
    },
    "language_info": {
      "name": "python"
    }
  },
  "cells": [
    {
      "cell_type": "markdown",
      "metadata": {
        "id": "view-in-github",
        "colab_type": "text"
      },
      "source": [
        "<a href=\"https://colab.research.google.com/github/Ashwini356/data_engineering/blob/main/spark.ipynb\" target=\"_parent\"><img src=\"https://colab.research.google.com/assets/colab-badge.svg\" alt=\"Open In Colab\"/></a>"
      ]
    },
    {
      "cell_type": "code",
      "execution_count": null,
      "metadata": {
        "colab": {
          "base_uri": "https://localhost:8080/"
        },
        "id": "uj3pFAnN0zGm",
        "outputId": "6e4f6cb9-12b6-4fd5-f00b-f34b845ceccf"
      },
      "outputs": [
        {
          "output_type": "stream",
          "name": "stdout",
          "text": [
            "Looking in indexes: https://pypi.org/simple, https://us-python.pkg.dev/colab-wheels/public/simple/\n",
            "Collecting pyspark\n",
            "  Downloading pyspark-3.3.1.tar.gz (281.4 MB)\n",
            "\u001b[K     |████████████████████████████████| 281.4 MB 33 kB/s \n",
            "\u001b[?25hCollecting py4j==0.10.9.5\n",
            "  Downloading py4j-0.10.9.5-py2.py3-none-any.whl (199 kB)\n",
            "\u001b[K     |████████████████████████████████| 199 kB 43.6 MB/s \n",
            "\u001b[?25hBuilding wheels for collected packages: pyspark\n",
            "  Building wheel for pyspark (setup.py) ... \u001b[?25l\u001b[?25hdone\n",
            "  Created wheel for pyspark: filename=pyspark-3.3.1-py2.py3-none-any.whl size=281845512 sha256=1b3fcc5e8c02c826d9ef5124692e10a66a5358ba4f036f45965a45ebe16ff4d7\n",
            "  Stored in directory: /root/.cache/pip/wheels/43/dc/11/ec201cd671da62fa9c5cc77078235e40722170ceba231d7598\n",
            "Successfully built pyspark\n",
            "Installing collected packages: py4j, pyspark\n",
            "Successfully installed py4j-0.10.9.5 pyspark-3.3.1\n"
          ]
        }
      ],
      "source": [
        "pip install pyspark"
      ]
    },
    {
      "cell_type": "code",
      "source": [
        "from pyspark.sql import SparkSession\n",
        "from pyspark import SparkContext\n",
        "from pyspark.sql.types import StructField,StructType,StringType,IntegerType\n",
        "from pyspark.sql.functions import col,lit,cast\n"
      ],
      "metadata": {
        "id": "g7RNbqjo3BV-"
      },
      "execution_count": null,
      "outputs": []
    },
    {
      "cell_type": "code",
      "source": [
        "spark = SparkSession.builder.appName('pyspark').getOrCreate()"
      ],
      "metadata": {
        "id": "tS8Gcw0l5As-"
      },
      "execution_count": null,
      "outputs": []
    },
    {
      "cell_type": "code",
      "source": [
        "data = [('10','Rohit','EE','MTech','JIT ','BHOPAL'),\n",
        "('11','Rahul','CS','MTech','BIT ','INDORE'),\n",
        "('12','Ramesh','AG','BTech','SIT ','JABALPUR'),\n",
        "('13','Renu','EC','BTech','MIT ','UJJAIN'),\n",
        "('14','Riya','CS','BTech','TIT ','BHOPAL'),\n",
        "('15','Vaishnavi','CH','BTech','KIT ','RANCHI'),\n",
        "('16','Shelly','BT','MTech','PIT ','GWALIOR'),\n",
        "('17','Ashwini','DS','MTech','RGPV ','BHOPAL'),\n",
        "('18','Sravanthi','DE','MTech','MEDICAPS ','INDORE'),\n",
        "('19','Ajay','MECH','BTech','CGDI ','INDORE'),\n",
        "('20','Karunesh','Mech','BTech','PCE ','SURAT'),\n",
        "('21','Vinita','CE','MTech','IIT ','BOMBAY'),\n",
        "('22','Ramya','EC','MTech','NIT ','JAIPUR'),\n",
        "('23','Shobhita','CS','BTech','NIT ','TRICHY'),\n",
        "('24','Vaitheeswari','HR','MBA','SDPC','DELHI'),\n",
        "('25','Manobhi','BT','MTech','NIT ','CHANDIGARH'),\n",
        "('26','Sushmita','CH','MTech','IIT ','MADRAS'),\n",
        "('27','Maya','EE','BTech','IIIT ','KANCHIPURAM'),\n",
        "('28','Mahesh','CS','MTech','KCIET ','BHUBNESHWAR'),\n",
        "('29','Sreeram','ET','BTech','MPCE ','LUCKNOW'),\n",
        "('30','Lovely','ENE','BTech','IIT ','DELHI')]"
      ],
      "metadata": {
        "id": "39ygi-f95eVU"
      },
      "execution_count": null,
      "outputs": []
    },
    {
      "cell_type": "code",
      "source": [
        "schema = StructType([ \\\n",
        "                     StructField('S.no',StringType(),True),\\\n",
        "                     StructField('S_Name',StringType(),True),\\\n",
        "                    StructField('Branch',StringType(),True),\\\n",
        "                     StructField('Course',StringType(),True),\\\n",
        "                     StructField('College',StringType(),True),\\\n",
        "                     StructField('Location',StringType(),True)\\\n",
        "                     ])"
      ],
      "metadata": {
        "id": "D6YnnFuH6i82"
      },
      "execution_count": null,
      "outputs": []
    },
    {
      "cell_type": "code",
      "source": [
        "\n",
        "df= spark.createDataFrame(data=data,schema=schema)"
      ],
      "metadata": {
        "id": "pLvAvK-3R8hD"
      },
      "execution_count": null,
      "outputs": []
    },
    {
      "cell_type": "code",
      "source": [
        "df.show()"
      ],
      "metadata": {
        "colab": {
          "base_uri": "https://localhost:8080/"
        },
        "id": "DQfHVApJign1",
        "outputId": "99584fd2-30f4-4067-e177-397896dd22f8"
      },
      "execution_count": null,
      "outputs": [
        {
          "output_type": "stream",
          "name": "stdout",
          "text": [
            "+----+------------+------+------+---------+-----------+\n",
            "|S.no|      S_Name|Branch|Course|  College|   Location|\n",
            "+----+------------+------+------+---------+-----------+\n",
            "|  10|       Rohit|    EE| MTech|     JIT |     BHOPAL|\n",
            "|  11|       Rahul|    CS| MTech|     BIT |     INDORE|\n",
            "|  12|      Ramesh|    AG| BTech|     SIT |   JABALPUR|\n",
            "|  13|        Renu|    EC| BTech|     MIT |     UJJAIN|\n",
            "|  14|        Riya|    CS| BTech|     TIT |     BHOPAL|\n",
            "|  15|   Vaishnavi|    CH| BTech|     KIT |     RANCHI|\n",
            "|  16|      Shelly|    BT| MTech|     PIT |    GWALIOR|\n",
            "|  17|     Ashwini|    DS| MTech|    RGPV |     BHOPAL|\n",
            "|  18|   Sravanthi|    DE| MTech|MEDICAPS |     INDORE|\n",
            "|  19|        Ajay|  MECH| BTech|    CGDI |     INDORE|\n",
            "|  20|    Karunesh|  Mech| BTech|     PCE |      SURAT|\n",
            "|  21|      Vinita|    CE| MTech|     IIT |     BOMBAY|\n",
            "|  22|       Ramya|    EC| MTech|     NIT |     JAIPUR|\n",
            "|  23|    Shobhita|    CS| BTech|     NIT |     TRICHY|\n",
            "|  24|Vaitheeswari|    HR|   MBA|     SDPC|      DELHI|\n",
            "|  25|     Manobhi|    BT| MTech|     NIT | CHANDIGARH|\n",
            "|  26|    Sushmita|    CH| MTech|     IIT |     MADRAS|\n",
            "|  27|        Maya|    EE| BTech|    IIIT |KANCHIPURAM|\n",
            "|  28|      Mahesh|    CS| MTech|   KCIET |BHUBNESHWAR|\n",
            "|  29|     Sreeram|    ET| BTech|    MPCE |    LUCKNOW|\n",
            "+----+------------+------+------+---------+-----------+\n",
            "only showing top 20 rows\n",
            "\n"
          ]
        }
      ]
    },
    {
      "cell_type": "code",
      "source": [
        "df1=df.select('College','Course','S_Name')"
      ],
      "metadata": {
        "id": "K09XeEUliv0O"
      },
      "execution_count": null,
      "outputs": []
    },
    {
      "cell_type": "code",
      "source": [
        "df1.show()"
      ],
      "metadata": {
        "colab": {
          "base_uri": "https://localhost:8080/"
        },
        "id": "vs07EYanjkcy",
        "outputId": "e0b4c696-c306-4d7b-a457-bf29f8c11a7b"
      },
      "execution_count": null,
      "outputs": [
        {
          "output_type": "stream",
          "name": "stdout",
          "text": [
            "+---------+------+------------+\n",
            "|  College|Course|      S_Name|\n",
            "+---------+------+------------+\n",
            "|     JIT | MTech|       Rohit|\n",
            "|     BIT | MTech|       Rahul|\n",
            "|     SIT | BTech|      Ramesh|\n",
            "|     MIT | BTech|        Renu|\n",
            "|     TIT | BTech|        Riya|\n",
            "|     KIT | BTech|   Vaishnavi|\n",
            "|     PIT | MTech|      Shelly|\n",
            "|    RGPV | MTech|     Ashwini|\n",
            "|MEDICAPS | MTech|   Sravanthi|\n",
            "|    CGDI | BTech|        Ajay|\n",
            "|     PCE | BTech|    Karunesh|\n",
            "|     IIT | MTech|      Vinita|\n",
            "|     NIT | MTech|       Ramya|\n",
            "|     NIT | BTech|    Shobhita|\n",
            "|     SDPC|   MBA|Vaitheeswari|\n",
            "|     NIT | MTech|     Manobhi|\n",
            "|     IIT | MTech|    Sushmita|\n",
            "|    IIIT | BTech|        Maya|\n",
            "|   KCIET | MTech|      Mahesh|\n",
            "|    MPCE | BTech|     Sreeram|\n",
            "+---------+------+------------+\n",
            "only showing top 20 rows\n",
            "\n"
          ]
        }
      ]
    },
    {
      "cell_type": "code",
      "source": [
        "df2=df.withColumn('Usn_No',lit(\"101\"))"
      ],
      "metadata": {
        "id": "07CMHG9Pjq8n"
      },
      "execution_count": null,
      "outputs": []
    },
    {
      "cell_type": "code",
      "source": [
        "df2.show()"
      ],
      "metadata": {
        "colab": {
          "base_uri": "https://localhost:8080/"
        },
        "id": "EfXxjFU8kQZA",
        "outputId": "b79af9bf-2269-4a29-b47d-4290a56daa98"
      },
      "execution_count": null,
      "outputs": [
        {
          "output_type": "stream",
          "name": "stdout",
          "text": [
            "+----+------------+------+------+---------+-----------+------+\n",
            "|S.no|      S_Name|Branch|Course|  College|   Location|Usn_No|\n",
            "+----+------------+------+------+---------+-----------+------+\n",
            "|  10|       Rohit|    EE| MTech|     JIT |     BHOPAL|   101|\n",
            "|  11|       Rahul|    CS| MTech|     BIT |     INDORE|   101|\n",
            "|  12|      Ramesh|    AG| BTech|     SIT |   JABALPUR|   101|\n",
            "|  13|        Renu|    EC| BTech|     MIT |     UJJAIN|   101|\n",
            "|  14|        Riya|    CS| BTech|     TIT |     BHOPAL|   101|\n",
            "|  15|   Vaishnavi|    CH| BTech|     KIT |     RANCHI|   101|\n",
            "|  16|      Shelly|    BT| MTech|     PIT |    GWALIOR|   101|\n",
            "|  17|     Ashwini|    DS| MTech|    RGPV |     BHOPAL|   101|\n",
            "|  18|   Sravanthi|    DE| MTech|MEDICAPS |     INDORE|   101|\n",
            "|  19|        Ajay|  MECH| BTech|    CGDI |     INDORE|   101|\n",
            "|  20|    Karunesh|  Mech| BTech|     PCE |      SURAT|   101|\n",
            "|  21|      Vinita|    CE| MTech|     IIT |     BOMBAY|   101|\n",
            "|  22|       Ramya|    EC| MTech|     NIT |     JAIPUR|   101|\n",
            "|  23|    Shobhita|    CS| BTech|     NIT |     TRICHY|   101|\n",
            "|  24|Vaitheeswari|    HR|   MBA|     SDPC|      DELHI|   101|\n",
            "|  25|     Manobhi|    BT| MTech|     NIT | CHANDIGARH|   101|\n",
            "|  26|    Sushmita|    CH| MTech|     IIT |     MADRAS|   101|\n",
            "|  27|        Maya|    EE| BTech|    IIIT |KANCHIPURAM|   101|\n",
            "|  28|      Mahesh|    CS| MTech|   KCIET |BHUBNESHWAR|   101|\n",
            "|  29|     Sreeram|    ET| BTech|    MPCE |    LUCKNOW|   101|\n",
            "+----+------------+------+------+---------+-----------+------+\n",
            "only showing top 20 rows\n",
            "\n"
          ]
        }
      ]
    },
    {
      "cell_type": "code",
      "source": [
        "df2.withColumnRenamed('S_Name','Student_Name').show()"
      ],
      "metadata": {
        "colab": {
          "base_uri": "https://localhost:8080/"
        },
        "id": "I88XISV6k6In",
        "outputId": "790f69b2-86dc-4fed-fd8b-026cbbd41ec1"
      },
      "execution_count": null,
      "outputs": [
        {
          "output_type": "stream",
          "name": "stdout",
          "text": [
            "+----+------------+------+------+---------+-----------+------+\n",
            "|S.no|Student_Name|Branch|Course|  College|   Location|Usn_No|\n",
            "+----+------------+------+------+---------+-----------+------+\n",
            "|  10|       Rohit|    EE| MTech|     JIT |     BHOPAL|   101|\n",
            "|  11|       Rahul|    CS| MTech|     BIT |     INDORE|   101|\n",
            "|  12|      Ramesh|    AG| BTech|     SIT |   JABALPUR|   101|\n",
            "|  13|        Renu|    EC| BTech|     MIT |     UJJAIN|   101|\n",
            "|  14|        Riya|    CS| BTech|     TIT |     BHOPAL|   101|\n",
            "|  15|   Vaishnavi|    CH| BTech|     KIT |     RANCHI|   101|\n",
            "|  16|      Shelly|    BT| MTech|     PIT |    GWALIOR|   101|\n",
            "|  17|     Ashwini|    DS| MTech|    RGPV |     BHOPAL|   101|\n",
            "|  18|   Sravanthi|    DE| MTech|MEDICAPS |     INDORE|   101|\n",
            "|  19|        Ajay|  MECH| BTech|    CGDI |     INDORE|   101|\n",
            "|  20|    Karunesh|  Mech| BTech|     PCE |      SURAT|   101|\n",
            "|  21|      Vinita|    CE| MTech|     IIT |     BOMBAY|   101|\n",
            "|  22|       Ramya|    EC| MTech|     NIT |     JAIPUR|   101|\n",
            "|  23|    Shobhita|    CS| BTech|     NIT |     TRICHY|   101|\n",
            "|  24|Vaitheeswari|    HR|   MBA|     SDPC|      DELHI|   101|\n",
            "|  25|     Manobhi|    BT| MTech|     NIT | CHANDIGARH|   101|\n",
            "|  26|    Sushmita|    CH| MTech|     IIT |     MADRAS|   101|\n",
            "|  27|        Maya|    EE| BTech|    IIIT |KANCHIPURAM|   101|\n",
            "|  28|      Mahesh|    CS| MTech|   KCIET |BHUBNESHWAR|   101|\n",
            "|  29|     Sreeram|    ET| BTech|    MPCE |    LUCKNOW|   101|\n",
            "+----+------------+------+------+---------+-----------+------+\n",
            "only showing top 20 rows\n",
            "\n"
          ]
        }
      ]
    },
    {
      "cell_type": "code",
      "source": [
        "df.sort(col('S_Name').desc()).show()"
      ],
      "metadata": {
        "colab": {
          "base_uri": "https://localhost:8080/"
        },
        "id": "DKskdun8lYgw",
        "outputId": "b178ca85-7d42-4014-a01a-e0516c7dd02e"
      },
      "execution_count": null,
      "outputs": [
        {
          "output_type": "stream",
          "name": "stdout",
          "text": [
            "+----+------------+------+------+---------+-----------+\n",
            "|S.no|      S_Name|Branch|Course|  College|   Location|\n",
            "+----+------------+------+------+---------+-----------+\n",
            "|  21|      Vinita|    CE| MTech|     IIT |     BOMBAY|\n",
            "|  24|Vaitheeswari|    HR|   MBA|     SDPC|      DELHI|\n",
            "|  15|   Vaishnavi|    CH| BTech|     KIT |     RANCHI|\n",
            "|  26|    Sushmita|    CH| MTech|     IIT |     MADRAS|\n",
            "|  29|     Sreeram|    ET| BTech|    MPCE |    LUCKNOW|\n",
            "|  18|   Sravanthi|    DE| MTech|MEDICAPS |     INDORE|\n",
            "|  23|    Shobhita|    CS| BTech|     NIT |     TRICHY|\n",
            "|  16|      Shelly|    BT| MTech|     PIT |    GWALIOR|\n",
            "|  10|       Rohit|    EE| MTech|     JIT |     BHOPAL|\n",
            "|  14|        Riya|    CS| BTech|     TIT |     BHOPAL|\n",
            "|  13|        Renu|    EC| BTech|     MIT |     UJJAIN|\n",
            "|  22|       Ramya|    EC| MTech|     NIT |     JAIPUR|\n",
            "|  12|      Ramesh|    AG| BTech|     SIT |   JABALPUR|\n",
            "|  11|       Rahul|    CS| MTech|     BIT |     INDORE|\n",
            "|  27|        Maya|    EE| BTech|    IIIT |KANCHIPURAM|\n",
            "|  25|     Manobhi|    BT| MTech|     NIT | CHANDIGARH|\n",
            "|  28|      Mahesh|    CS| MTech|   KCIET |BHUBNESHWAR|\n",
            "|  30|      Lovely|   ENE| BTech|     IIT |      DELHI|\n",
            "|  20|    Karunesh|  Mech| BTech|     PCE |      SURAT|\n",
            "|  17|     Ashwini|    DS| MTech|    RGPV |     BHOPAL|\n",
            "+----+------------+------+------+---------+-----------+\n",
            "only showing top 20 rows\n",
            "\n"
          ]
        }
      ]
    },
    {
      "cell_type": "code",
      "source": [
        "df.orderBy(col('Location')).show()\n"
      ],
      "metadata": {
        "colab": {
          "base_uri": "https://localhost:8080/"
        },
        "id": "VV79-8QtnJeA",
        "outputId": "915f7913-e6c9-4e89-d0e0-31abb3bfbd50"
      },
      "execution_count": null,
      "outputs": [
        {
          "output_type": "stream",
          "name": "stdout",
          "text": [
            "+----+------------+------+------+---------+-----------+\n",
            "|S.no|      S_Name|Branch|Course|  College|   Location|\n",
            "+----+------------+------+------+---------+-----------+\n",
            "|  17|     Ashwini|    DS| MTech|    RGPV |     BHOPAL|\n",
            "|  14|        Riya|    CS| BTech|     TIT |     BHOPAL|\n",
            "|  10|       Rohit|    EE| MTech|     JIT |     BHOPAL|\n",
            "|  28|      Mahesh|    CS| MTech|   KCIET |BHUBNESHWAR|\n",
            "|  21|      Vinita|    CE| MTech|     IIT |     BOMBAY|\n",
            "|  25|     Manobhi|    BT| MTech|     NIT | CHANDIGARH|\n",
            "|  24|Vaitheeswari|    HR|   MBA|     SDPC|      DELHI|\n",
            "|  30|      Lovely|   ENE| BTech|     IIT |      DELHI|\n",
            "|  16|      Shelly|    BT| MTech|     PIT |    GWALIOR|\n",
            "|  11|       Rahul|    CS| MTech|     BIT |     INDORE|\n",
            "|  18|   Sravanthi|    DE| MTech|MEDICAPS |     INDORE|\n",
            "|  19|        Ajay|  MECH| BTech|    CGDI |     INDORE|\n",
            "|  12|      Ramesh|    AG| BTech|     SIT |   JABALPUR|\n",
            "|  22|       Ramya|    EC| MTech|     NIT |     JAIPUR|\n",
            "|  27|        Maya|    EE| BTech|    IIIT |KANCHIPURAM|\n",
            "|  29|     Sreeram|    ET| BTech|    MPCE |    LUCKNOW|\n",
            "|  26|    Sushmita|    CH| MTech|     IIT |     MADRAS|\n",
            "|  15|   Vaishnavi|    CH| BTech|     KIT |     RANCHI|\n",
            "|  20|    Karunesh|  Mech| BTech|     PCE |      SURAT|\n",
            "|  23|    Shobhita|    CS| BTech|     NIT |     TRICHY|\n",
            "+----+------------+------+------+---------+-----------+\n",
            "only showing top 20 rows\n",
            "\n"
          ]
        }
      ]
    },
    {
      "cell_type": "code",
      "source": [
        "df.groupby('S.no').max().show()"
      ],
      "metadata": {
        "colab": {
          "base_uri": "https://localhost:8080/",
          "height": 363
        },
        "id": "KIRHO7K4nwd3",
        "outputId": "4ab6d402-8353-49ed-d982-40b1a401d2d9"
      },
      "execution_count": null,
      "outputs": [
        {
          "output_type": "error",
          "ename": "AnalysisException",
          "evalue": "ignored",
          "traceback": [
            "\u001b[0;31m---------------------------------------------------------------------------\u001b[0m",
            "\u001b[0;31mAnalysisException\u001b[0m                         Traceback (most recent call last)",
            "\u001b[0;32m<ipython-input-39-e163e98a14fb>\u001b[0m in \u001b[0;36m<module>\u001b[0;34m\u001b[0m\n\u001b[0;32m----> 1\u001b[0;31m \u001b[0mdf\u001b[0m\u001b[0;34m.\u001b[0m\u001b[0mgroupby\u001b[0m\u001b[0;34m(\u001b[0m\u001b[0;34m'S.no'\u001b[0m\u001b[0;34m)\u001b[0m\u001b[0;34m.\u001b[0m\u001b[0mmax\u001b[0m\u001b[0;34m(\u001b[0m\u001b[0;34m)\u001b[0m\u001b[0;34m.\u001b[0m\u001b[0mshow\u001b[0m\u001b[0;34m(\u001b[0m\u001b[0;34m)\u001b[0m\u001b[0;34m\u001b[0m\u001b[0;34m\u001b[0m\u001b[0m\n\u001b[0m",
            "\u001b[0;32m/usr/local/lib/python3.8/dist-packages/pyspark/sql/group.py\u001b[0m in \u001b[0;36m_api\u001b[0;34m(self, *cols)\u001b[0m\n\u001b[1;32m     48\u001b[0m     \u001b[0;32mdef\u001b[0m \u001b[0m_api\u001b[0m\u001b[0;34m(\u001b[0m\u001b[0mself\u001b[0m\u001b[0;34m:\u001b[0m \u001b[0;34m\"GroupedData\"\u001b[0m\u001b[0;34m,\u001b[0m \u001b[0;34m*\u001b[0m\u001b[0mcols\u001b[0m\u001b[0;34m:\u001b[0m \u001b[0mstr\u001b[0m\u001b[0;34m)\u001b[0m \u001b[0;34m->\u001b[0m \u001b[0mDataFrame\u001b[0m\u001b[0;34m:\u001b[0m\u001b[0;34m\u001b[0m\u001b[0;34m\u001b[0m\u001b[0m\n\u001b[1;32m     49\u001b[0m         \u001b[0mname\u001b[0m \u001b[0;34m=\u001b[0m \u001b[0mf\u001b[0m\u001b[0;34m.\u001b[0m\u001b[0m__name__\u001b[0m\u001b[0;34m\u001b[0m\u001b[0;34m\u001b[0m\u001b[0m\n\u001b[0;32m---> 50\u001b[0;31m         \u001b[0mjdf\u001b[0m \u001b[0;34m=\u001b[0m \u001b[0mgetattr\u001b[0m\u001b[0;34m(\u001b[0m\u001b[0mself\u001b[0m\u001b[0;34m.\u001b[0m\u001b[0m_jgd\u001b[0m\u001b[0;34m,\u001b[0m \u001b[0mname\u001b[0m\u001b[0;34m)\u001b[0m\u001b[0;34m(\u001b[0m\u001b[0m_to_seq\u001b[0m\u001b[0;34m(\u001b[0m\u001b[0mself\u001b[0m\u001b[0;34m.\u001b[0m\u001b[0msession\u001b[0m\u001b[0;34m.\u001b[0m\u001b[0m_sc\u001b[0m\u001b[0;34m,\u001b[0m \u001b[0mcols\u001b[0m\u001b[0;34m)\u001b[0m\u001b[0;34m)\u001b[0m\u001b[0;34m\u001b[0m\u001b[0;34m\u001b[0m\u001b[0m\n\u001b[0m\u001b[1;32m     51\u001b[0m         \u001b[0;32mreturn\u001b[0m \u001b[0mDataFrame\u001b[0m\u001b[0;34m(\u001b[0m\u001b[0mjdf\u001b[0m\u001b[0;34m,\u001b[0m \u001b[0mself\u001b[0m\u001b[0;34m.\u001b[0m\u001b[0msession\u001b[0m\u001b[0;34m)\u001b[0m\u001b[0;34m\u001b[0m\u001b[0;34m\u001b[0m\u001b[0m\n\u001b[1;32m     52\u001b[0m \u001b[0;34m\u001b[0m\u001b[0m\n",
            "\u001b[0;32m/usr/local/lib/python3.8/dist-packages/py4j/java_gateway.py\u001b[0m in \u001b[0;36m__call__\u001b[0;34m(self, *args)\u001b[0m\n\u001b[1;32m   1319\u001b[0m \u001b[0;34m\u001b[0m\u001b[0m\n\u001b[1;32m   1320\u001b[0m         \u001b[0manswer\u001b[0m \u001b[0;34m=\u001b[0m \u001b[0mself\u001b[0m\u001b[0;34m.\u001b[0m\u001b[0mgateway_client\u001b[0m\u001b[0;34m.\u001b[0m\u001b[0msend_command\u001b[0m\u001b[0;34m(\u001b[0m\u001b[0mcommand\u001b[0m\u001b[0;34m)\u001b[0m\u001b[0;34m\u001b[0m\u001b[0;34m\u001b[0m\u001b[0m\n\u001b[0;32m-> 1321\u001b[0;31m         return_value = get_return_value(\n\u001b[0m\u001b[1;32m   1322\u001b[0m             answer, self.gateway_client, self.target_id, self.name)\n\u001b[1;32m   1323\u001b[0m \u001b[0;34m\u001b[0m\u001b[0m\n",
            "\u001b[0;32m/usr/local/lib/python3.8/dist-packages/pyspark/sql/utils.py\u001b[0m in \u001b[0;36mdeco\u001b[0;34m(*a, **kw)\u001b[0m\n\u001b[1;32m    194\u001b[0m                 \u001b[0;31m# Hide where the exception came from that shows a non-Pythonic\u001b[0m\u001b[0;34m\u001b[0m\u001b[0;34m\u001b[0m\u001b[0;34m\u001b[0m\u001b[0m\n\u001b[1;32m    195\u001b[0m                 \u001b[0;31m# JVM exception message.\u001b[0m\u001b[0;34m\u001b[0m\u001b[0;34m\u001b[0m\u001b[0;34m\u001b[0m\u001b[0m\n\u001b[0;32m--> 196\u001b[0;31m                 \u001b[0;32mraise\u001b[0m \u001b[0mconverted\u001b[0m \u001b[0;32mfrom\u001b[0m \u001b[0;32mNone\u001b[0m\u001b[0;34m\u001b[0m\u001b[0;34m\u001b[0m\u001b[0m\n\u001b[0m\u001b[1;32m    197\u001b[0m             \u001b[0;32melse\u001b[0m\u001b[0;34m:\u001b[0m\u001b[0;34m\u001b[0m\u001b[0;34m\u001b[0m\u001b[0m\n\u001b[1;32m    198\u001b[0m                 \u001b[0;32mraise\u001b[0m\u001b[0;34m\u001b[0m\u001b[0;34m\u001b[0m\u001b[0m\n",
            "\u001b[0;31mAnalysisException\u001b[0m: Column 'S.no' does not exist. Did you mean one of the following? [S.no, Branch, S_Name, Course, College, Location];\n'Aggregate ['S.no], ['S.no]\n+- LogicalRDD [S.no#5514, S_Name#5515, Branch#5516, Course#5517, College#5518, Location#5519], false\n"
          ]
        }
      ]
    },
    {
      "cell_type": "code",
      "source": [
        "df4 =df.withColumnRenamed('S.no','id')"
      ],
      "metadata": {
        "id": "MMqBr7cGog_t"
      },
      "execution_count": null,
      "outputs": []
    },
    {
      "cell_type": "code",
      "source": [
        "df4.show()"
      ],
      "metadata": {
        "colab": {
          "base_uri": "https://localhost:8080/"
        },
        "id": "F4wzbWJioq5t",
        "outputId": "5445beb2-51fe-48b8-db94-629d42087762"
      },
      "execution_count": null,
      "outputs": [
        {
          "output_type": "stream",
          "name": "stdout",
          "text": [
            "+---+------------+------+------+---------+-----------+\n",
            "| id|      S_Name|Branch|Course|  College|   Location|\n",
            "+---+------------+------+------+---------+-----------+\n",
            "| 10|       Rohit|    EE| MTech|     JIT |     BHOPAL|\n",
            "| 11|       Rahul|    CS| MTech|     BIT |     INDORE|\n",
            "| 12|      Ramesh|    AG| BTech|     SIT |   JABALPUR|\n",
            "| 13|        Renu|    EC| BTech|     MIT |     UJJAIN|\n",
            "| 14|        Riya|    CS| BTech|     TIT |     BHOPAL|\n",
            "| 15|   Vaishnavi|    CH| BTech|     KIT |     RANCHI|\n",
            "| 16|      Shelly|    BT| MTech|     PIT |    GWALIOR|\n",
            "| 17|     Ashwini|    DS| MTech|    RGPV |     BHOPAL|\n",
            "| 18|   Sravanthi|    DE| MTech|MEDICAPS |     INDORE|\n",
            "| 19|        Ajay|  MECH| BTech|    CGDI |     INDORE|\n",
            "| 20|    Karunesh|  Mech| BTech|     PCE |      SURAT|\n",
            "| 21|      Vinita|    CE| MTech|     IIT |     BOMBAY|\n",
            "| 22|       Ramya|    EC| MTech|     NIT |     JAIPUR|\n",
            "| 23|    Shobhita|    CS| BTech|     NIT |     TRICHY|\n",
            "| 24|Vaitheeswari|    HR|   MBA|     SDPC|      DELHI|\n",
            "| 25|     Manobhi|    BT| MTech|     NIT | CHANDIGARH|\n",
            "| 26|    Sushmita|    CH| MTech|     IIT |     MADRAS|\n",
            "| 27|        Maya|    EE| BTech|    IIIT |KANCHIPURAM|\n",
            "| 28|      Mahesh|    CS| MTech|   KCIET |BHUBNESHWAR|\n",
            "| 29|     Sreeram|    ET| BTech|    MPCE |    LUCKNOW|\n",
            "+---+------------+------+------+---------+-----------+\n",
            "only showing top 20 rows\n",
            "\n"
          ]
        }
      ]
    },
    {
      "cell_type": "code",
      "source": [
        "df4.groupby('Branch')\n"
      ],
      "metadata": {
        "colab": {
          "base_uri": "https://localhost:8080/"
        },
        "id": "7huyBpPXoulQ",
        "outputId": "0b2953ae-23b0-4b7f-c738-043901ca54f1"
      },
      "execution_count": null,
      "outputs": [
        {
          "output_type": "execute_result",
          "data": {
            "text/plain": [
              "<pyspark.sql.group.GroupedData at 0x7f90d21a8490>"
            ]
          },
          "metadata": {},
          "execution_count": 47
        }
      ]
    },
    {
      "cell_type": "code",
      "source": [
        "df4.show()"
      ],
      "metadata": {
        "id": "R0BPfvBOpiri",
        "outputId": "a04fa96c-e530-4f6e-82f6-7980f3c151e1",
        "colab": {
          "base_uri": "https://localhost:8080/"
        }
      },
      "execution_count": null,
      "outputs": [
        {
          "output_type": "stream",
          "name": "stdout",
          "text": [
            "+---+------------+------+------+---------+-----------+\n",
            "| id|      S_Name|Branch|Course|  College|   Location|\n",
            "+---+------------+------+------+---------+-----------+\n",
            "| 10|       Rohit|    EE| MTech|     JIT |     BHOPAL|\n",
            "| 11|       Rahul|    CS| MTech|     BIT |     INDORE|\n",
            "| 12|      Ramesh|    AG| BTech|     SIT |   JABALPUR|\n",
            "| 13|        Renu|    EC| BTech|     MIT |     UJJAIN|\n",
            "| 14|        Riya|    CS| BTech|     TIT |     BHOPAL|\n",
            "| 15|   Vaishnavi|    CH| BTech|     KIT |     RANCHI|\n",
            "| 16|      Shelly|    BT| MTech|     PIT |    GWALIOR|\n",
            "| 17|     Ashwini|    DS| MTech|    RGPV |     BHOPAL|\n",
            "| 18|   Sravanthi|    DE| MTech|MEDICAPS |     INDORE|\n",
            "| 19|        Ajay|  MECH| BTech|    CGDI |     INDORE|\n",
            "| 20|    Karunesh|  Mech| BTech|     PCE |      SURAT|\n",
            "| 21|      Vinita|    CE| MTech|     IIT |     BOMBAY|\n",
            "| 22|       Ramya|    EC| MTech|     NIT |     JAIPUR|\n",
            "| 23|    Shobhita|    CS| BTech|     NIT |     TRICHY|\n",
            "| 24|Vaitheeswari|    HR|   MBA|     SDPC|      DELHI|\n",
            "| 25|     Manobhi|    BT| MTech|     NIT | CHANDIGARH|\n",
            "| 26|    Sushmita|    CH| MTech|     IIT |     MADRAS|\n",
            "| 27|        Maya|    EE| BTech|    IIIT |KANCHIPURAM|\n",
            "| 28|      Mahesh|    CS| MTech|   KCIET |BHUBNESHWAR|\n",
            "| 29|     Sreeram|    ET| BTech|    MPCE |    LUCKNOW|\n",
            "+---+------------+------+------+---------+-----------+\n",
            "only showing top 20 rows\n",
            "\n"
          ]
        }
      ]
    }
  ]
}